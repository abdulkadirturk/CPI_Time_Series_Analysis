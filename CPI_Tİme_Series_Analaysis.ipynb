{
 "cells": [
  {
   "cell_type": "markdown",
   "metadata": {},
   "source": [
    "# Importing libraries"
   ]
  },
  {
   "cell_type": "code",
   "execution_count": 354,
   "metadata": {},
   "outputs": [],
   "source": [
    "import warnings\n",
    "warnings.filterwarnings(\"ignore\")\n",
    "import matplotlib.pyplot as plt\n",
    "import evds as ev\n",
    "import pandas as pd \n",
    "import numpy as np\n",
    "import seaborn as sns\n",
    "from arch.unitroot import ADF,PhillipsPerron,KPSS,ZivotAndrews\n",
    "from scipy.stats import boxcox\n",
    "from statsmodels.graphics.tsaplots import month_plot\n",
    "import statsmodels.api as sm\n",
    "from merlion.models.utils.autosarima_utils import nsdiffs\n",
    "from sklearn.preprocessing import PolynomialFeatures\n",
    "from scipy.special import inv_boxcox\n",
    "from sklearn.metrics import r2_score, mean_squared_error\n",
    "from statsmodels.tsa.holtwinters import Holt, ExponentialSmoothing\n",
    "from pmdarima import auto_arima\n",
    "from statsmodels.tsa.statespace.sarimax import SARIMAX\n",
    "from statsmodels.stats.diagnostic import acorr_ljungbox,het_arch"
   ]
  },
  {
   "cell_type": "markdown",
   "metadata": {},
   "source": [
    "# Dataset"
   ]
  },
  {
   "cell_type": "markdown",
   "metadata": {},
   "source": [
    "## About the dataset"
   ]
  },
  {
   "cell_type": "markdown",
   "metadata": {},
   "source": [
    "* **Consumer Price Index (CPI)  is a measure of the general price level in the  economy.**\n",
    "* The dataset named \"TP.FG.J0\" used in the application has been retrieved using the API service from the website https://evds2.tcmb.gov.tr/, starting from \"01-01-2003\" until \"31-12-2023\".     \n",
    "Below is how it was obtained.\n"
   ]
  },
  {
   "cell_type": "code",
   "execution_count": 388,
   "metadata": {},
   "outputs": [],
   "source": [
    "with open(\"Evds.txt\") as file: # The \"Evds.txt\" file contains my personal API key. The dataset has been loaded along with other files.\n",
    "    api = file.read()"
   ]
  },
  {
   "cell_type": "code",
   "execution_count": 383,
   "metadata": {},
   "outputs": [
    {
     "data": {
      "text/html": [
       "<div>\n",
       "<style scoped>\n",
       "    .dataframe tbody tr th:only-of-type {\n",
       "        vertical-align: middle;\n",
       "    }\n",
       "\n",
       "    .dataframe tbody tr th {\n",
       "        vertical-align: top;\n",
       "    }\n",
       "\n",
       "    .dataframe thead th {\n",
       "        text-align: right;\n",
       "    }\n",
       "</style>\n",
       "<table border=\"1\" class=\"dataframe\">\n",
       "  <thead>\n",
       "    <tr style=\"text-align: right;\">\n",
       "      <th></th>\n",
       "      <th>CPI</th>\n",
       "    </tr>\n",
       "    <tr>\n",
       "      <th>Tarih</th>\n",
       "      <th></th>\n",
       "    </tr>\n",
       "  </thead>\n",
       "  <tbody>\n",
       "    <tr>\n",
       "      <th>2003-01-31</th>\n",
       "      <td>94.77</td>\n",
       "    </tr>\n",
       "    <tr>\n",
       "      <th>2003-02-28</th>\n",
       "      <td>96.23</td>\n",
       "    </tr>\n",
       "    <tr>\n",
       "      <th>2003-03-31</th>\n",
       "      <td>98.12</td>\n",
       "    </tr>\n",
       "    <tr>\n",
       "      <th>2003-04-30</th>\n",
       "      <td>99.09</td>\n",
       "    </tr>\n",
       "    <tr>\n",
       "      <th>2003-05-31</th>\n",
       "      <td>100.04</td>\n",
       "    </tr>\n",
       "    <tr>\n",
       "      <th>...</th>\n",
       "      <td>...</td>\n",
       "    </tr>\n",
       "    <tr>\n",
       "      <th>2023-08-31</th>\n",
       "      <td>1614.31</td>\n",
       "    </tr>\n",
       "    <tr>\n",
       "      <th>2023-09-30</th>\n",
       "      <td>1691.04</td>\n",
       "    </tr>\n",
       "    <tr>\n",
       "      <th>2023-10-31</th>\n",
       "      <td>1749.11</td>\n",
       "    </tr>\n",
       "    <tr>\n",
       "      <th>2023-11-30</th>\n",
       "      <td>1806.50</td>\n",
       "    </tr>\n",
       "    <tr>\n",
       "      <th>2023-12-31</th>\n",
       "      <td>1859.38</td>\n",
       "    </tr>\n",
       "  </tbody>\n",
       "</table>\n",
       "<p>252 rows × 1 columns</p>\n",
       "</div>"
      ],
      "text/plain": [
       "                CPI\n",
       "Tarih              \n",
       "2003-01-31    94.77\n",
       "2003-02-28    96.23\n",
       "2003-03-31    98.12\n",
       "2003-04-30    99.09\n",
       "2003-05-31   100.04\n",
       "...             ...\n",
       "2023-08-31  1614.31\n",
       "2023-09-30  1691.04\n",
       "2023-10-31  1749.11\n",
       "2023-11-30  1806.50\n",
       "2023-12-31  1859.38\n",
       "\n",
       "[252 rows x 1 columns]"
      ]
     },
     "execution_count": 383,
     "metadata": {},
     "output_type": "execute_result"
    }
   ],
   "source": [
    "evds= ev.evdsAPI(api)\n",
    "CPI= evds.get_data([\"TP.FG.J0\"], startdate=\"01-01-2003\", enddate=\"31-12-2023\",frequency=5)\n",
    "CPI.rename(columns={\"TP_FG_J0\":\"CPI\"},inplace=True)\n",
    "tarih=pd.date_range(\"01-01-2003\",periods=len(CPI),freq=\"M\")\n",
    "CPI[\"Tarih\"]=tarih\n",
    "CPI.set_index(\"Tarih\",inplace=True)\n",
    "CPI"
   ]
  },
  {
   "cell_type": "markdown",
   "metadata": {},
   "source": [
    "## Base year conversion"
   ]
  },
  {
   "cell_type": "code",
   "execution_count": 357,
   "metadata": {},
   "outputs": [
    {
     "data": {
      "image/png": "[encoded data removed]",
      "text/plain": [
       "<Figure size 640x480 with 2 Axes>"
      ]
     },
     "metadata": {},
     "output_type": "display_data"
    }
   ],
   "source": [
    "df= CPI.resample(\"Y\").mean()\n",
    "df.index= df.index.year\n",
    "sns.heatmap(df,annot=True,fmt=\".2f\",cmap=\"Reds\")\n",
    "plt.show()"
   ]
  },
  {
   "cell_type": "code",
   "execution_count": 358,
   "metadata": {},
   "outputs": [],
   "source": [
    "inflation_monthly=CPI[\"CPI\"].pct_change()*100 # Monthly\n",
    "inflation_monthly.dropna(inplace=True)\n",
    "inflation_monthly=pd.DataFrame(inflation_monthly)\n",
    "inflation_monthly.rename(columns={\"CPI\":\"Inflation\"},inplace=True)\n",
    "inflation_yearly=CPI[\"CPI\"].pct_change(12)*100 # Yearly\n",
    "inflation_yearly.dropna(inplace=True)\n",
    "inflation_yearly=pd.DataFrame(inflation_yearly)\n",
    "inflation_yearly.rename(columns={\"CPI\":\"Inflation\"},inplace=True)"
   ]
  },
  {
   "cell_type": "code",
   "execution_count": 359,
   "metadata": {},
   "outputs": [
    {
     "name": "stdout",
     "output_type": "stream",
     "text": [
      "            Inflation\n",
      "Tarih                \n",
      "2004-01-31  10.594070\n",
      "2004-02-29   9.477294\n",
      "2004-03-31   8.397880\n",
      "2004-04-30   7.871632\n",
      "2004-05-31   7.307077\n",
      "...               ...\n",
      "2023-08-31  58.943534\n",
      "2023-09-30  61.529865\n",
      "2023-10-31  61.357011\n",
      "2023-11-30  61.980166\n",
      "2023-12-31  64.772919\n",
      "\n",
      "[240 rows x 1 columns]\n"
     ]
    }
   ],
   "source": [
    "print(inflation_yearly)"
   ]
  },
  {
   "cell_type": "markdown",
   "metadata": {},
   "source": [
    "# Application and Analysis of Econometric Tests"
   ]
  },
  {
   "cell_type": "markdown",
   "metadata": {},
   "source": [
    "## Unit root test"
   ]
  },
  {
   "cell_type": "markdown",
   "metadata": {},
   "source": [
    "Unit root tests are statistical tests used to determine the stationarity property of a time series. If a time series possesses the stationarity property, its statistical characteristics remain constant over time. Therefore, unit root tests are important for the statistical analysis of time series data.     \n",
    " Among the commonly used unit root tests are the Augmented Dickey-Fuller (ADF) test, the Phillips-Perron (PP) test, and the KPSS test."
   ]
  },
  {
   "cell_type": "code",
   "execution_count": 360,
   "metadata": {},
   "outputs": [
    {
     "data": {
      "image/png": "[encoded data removed]",
      "text/plain": [
       "<Figure size 640x480 with 1 Axes>"
      ]
     },
     "metadata": {},
     "output_type": "display_data"
    }
   ],
   "source": [
    "plt.plot(CPI)\n",
    "plt.show()\n"
   ]
  },
  {
   "cell_type": "markdown",
   "metadata": {},
   "source": [
    "* In the graphical examination, it is considered that there is a non-stationary structure and a structural break.\n"
   ]
  },
  {
   "cell_type": "code",
   "execution_count": 361,
   "metadata": {},
   "outputs": [],
   "source": [
    "adf = ADF(CPI,trend=\"ct\")\n",
    "pp= PhillipsPerron(CPI,trend=\"ct\")\n",
    "kpss=KPSS(CPI,trend=\"ct\")"
   ]
  },
  {
   "cell_type": "code",
   "execution_count": 362,
   "metadata": {},
   "outputs": [
    {
     "name": "stdout",
     "output_type": "stream",
     "text": [
      "   Augmented Dickey-Fuller Results   \n",
      "=====================================\n",
      "Test Statistic                  6.101\n",
      "P-value                         1.000\n",
      "Lags                               16\n",
      "-------------------------------------\n",
      "\n",
      "Trend: Constant and Linear Time Trend\n",
      "Critical Values: -4.00 (1%), -3.43 (5%), -3.14 (10%)\n",
      "Null Hypothesis: The process contains a unit root.\n",
      "Alternative Hypothesis: The process is weakly stationary.\n",
      "     Phillips-Perron Test (Z-tau)    \n",
      "=====================================\n",
      "Test Statistic                 17.424\n",
      "P-value                         1.000\n",
      "Lags                               16\n",
      "-------------------------------------\n",
      "\n",
      "Trend: Constant and Linear Time Trend\n",
      "Critical Values: -4.00 (1%), -3.43 (5%), -3.14 (10%)\n",
      "Null Hypothesis: The process contains a unit root.\n",
      "Alternative Hypothesis: The process is weakly stationary.\n",
      "    KPSS Stationarity Test Results   \n",
      "=====================================\n",
      "Test Statistic                  0.370\n",
      "P-value                         0.000\n",
      "Lags                               10\n",
      "-------------------------------------\n",
      "\n",
      "Trend: Constant and Linear Time Trend\n",
      "Critical Values: 0.22 (1%), 0.15 (5%), 0.12 (10%)\n",
      "Null Hypothesis: The process is weakly stationary.\n",
      "Alternative Hypothesis: The process contains a unit root.\n"
     ]
    }
   ],
   "source": [
    "print(adf)\n",
    "print(pp)\n",
    "print(kpss)"
   ]
  },
  {
   "cell_type": "markdown",
   "metadata": {},
   "source": [
    "### The interpretation of the test results"
   ]
  },
  {
   "cell_type": "markdown",
   "metadata": {},
   "source": [
    "ADF Test and Phillips perron Test     \n",
    "* Null Hypothesis: **The process contains a unit root**\n",
    "\n",
    "\n",
    "KPSS Stationarity Test\n",
    "* Null Hypothesis: **The process is weakly stationary.**\n"
   ]
  },
  {
   "cell_type": "markdown",
   "metadata": {},
   "source": [
    "|               | Test Statistic       | PP-value    | Decision      |\n",
    "|--             | --------             | --------    |--------   \n",
    "|ADF            |  6.101               | 1.000       |Null hypothesis is rejected.\n",
    "|PP             | 17.424               | 1.000       |Null hypothesis cannot be rejected.\n",
    "|KPSS           | 0.370                |0.000        |Null hypothesis cannot be rejected."
   ]
  },
  {
   "cell_type": "code",
   "execution_count": 363,
   "metadata": {},
   "outputs": [
    {
     "data": {
      "text/html": [
       "<table class=\"simpletable\">\n",
       "<caption>OLS Regression Results</caption>\n",
       "<tr>\n",
       "  <th>Dep. Variable:</th>            <td>y</td>        <th>  R-squared:         </th> <td>   0.824</td>\n",
       "</tr>\n",
       "<tr>\n",
       "  <th>Model:</th>                   <td>OLS</td>       <th>  Adj. R-squared:    </th> <td>   0.809</td>\n",
       "</tr>\n",
       "<tr>\n",
       "  <th>Method:</th>             <td>Least Squares</td>  <th>  F-statistic:       </th> <td>   55.99</td>\n",
       "</tr>\n",
       "<tr>\n",
       "  <th>Date:</th>             <td>Sun, 14 Apr 2024</td> <th>  Prob (F-statistic):</th> <td>6.04e-71</td>\n",
       "</tr>\n",
       "<tr>\n",
       "  <th>Time:</th>                 <td>13:41:34</td>     <th>  Log-Likelihood:    </th> <td> -812.23</td>\n",
       "</tr>\n",
       "<tr>\n",
       "  <th>No. Observations:</th>      <td>   235</td>      <th>  AIC:               </th> <td>   1662.</td>\n",
       "</tr>\n",
       "<tr>\n",
       "  <th>Df Residuals:</th>          <td>   216</td>      <th>  BIC:               </th> <td>   1728.</td>\n",
       "</tr>\n",
       "<tr>\n",
       "  <th>Df Model:</th>              <td>    18</td>      <th>                     </th>     <td> </td>   \n",
       "</tr>\n",
       "<tr>\n",
       "  <th>Covariance Type:</th>      <td>nonrobust</td>    <th>                     </th>     <td> </td>   \n",
       "</tr>\n",
       "</table>\n",
       "<table class=\"simpletable\">\n",
       "<tr>\n",
       "      <td></td>        <th>coef</th>     <th>std err</th>      <th>t</th>      <th>P>|t|</th>  <th>[0.025</th>    <th>0.975]</th>  \n",
       "</tr>\n",
       "<tr>\n",
       "  <th>Level.L1</th> <td>    0.0902</td> <td>    0.015</td> <td>    6.101</td> <td> 0.000</td> <td>    0.061</td> <td>    0.119</td>\n",
       "</tr>\n",
       "<tr>\n",
       "  <th>Diff.L1</th>  <td>    0.6240</td> <td>    0.073</td> <td>    8.510</td> <td> 0.000</td> <td>    0.479</td> <td>    0.768</td>\n",
       "</tr>\n",
       "<tr>\n",
       "  <th>Diff.L2</th>  <td>   -0.3929</td> <td>    0.085</td> <td>   -4.639</td> <td> 0.000</td> <td>   -0.560</td> <td>   -0.226</td>\n",
       "</tr>\n",
       "<tr>\n",
       "  <th>Diff.L3</th>  <td>   -0.0955</td> <td>    0.088</td> <td>   -1.090</td> <td> 0.277</td> <td>   -0.268</td> <td>    0.077</td>\n",
       "</tr>\n",
       "<tr>\n",
       "  <th>Diff.L4</th>  <td>   -0.3106</td> <td>    0.088</td> <td>   -3.536</td> <td> 0.000</td> <td>   -0.484</td> <td>   -0.137</td>\n",
       "</tr>\n",
       "<tr>\n",
       "  <th>Diff.L5</th>  <td>    0.1558</td> <td>    0.090</td> <td>    1.738</td> <td> 0.084</td> <td>   -0.021</td> <td>    0.333</td>\n",
       "</tr>\n",
       "<tr>\n",
       "  <th>Diff.L6</th>  <td>   -0.0169</td> <td>    0.093</td> <td>   -0.183</td> <td> 0.855</td> <td>   -0.200</td> <td>    0.166</td>\n",
       "</tr>\n",
       "<tr>\n",
       "  <th>Diff.L7</th>  <td>    0.0211</td> <td>    0.092</td> <td>    0.229</td> <td> 0.819</td> <td>   -0.160</td> <td>    0.203</td>\n",
       "</tr>\n",
       "<tr>\n",
       "  <th>Diff.L8</th>  <td>   -0.4955</td> <td>    0.094</td> <td>   -5.290</td> <td> 0.000</td> <td>   -0.680</td> <td>   -0.311</td>\n",
       "</tr>\n",
       "<tr>\n",
       "  <th>Diff.L9</th>  <td>    0.3377</td> <td>    0.096</td> <td>    3.526</td> <td> 0.001</td> <td>    0.149</td> <td>    0.527</td>\n",
       "</tr>\n",
       "<tr>\n",
       "  <th>Diff.L10</th> <td>   -0.2098</td> <td>    0.098</td> <td>   -2.138</td> <td> 0.034</td> <td>   -0.403</td> <td>   -0.016</td>\n",
       "</tr>\n",
       "<tr>\n",
       "  <th>Diff.L11</th> <td>   -0.4473</td> <td>    0.102</td> <td>   -4.392</td> <td> 0.000</td> <td>   -0.648</td> <td>   -0.247</td>\n",
       "</tr>\n",
       "<tr>\n",
       "  <th>Diff.L12</th> <td>    0.0733</td> <td>    0.119</td> <td>    0.616</td> <td> 0.538</td> <td>   -0.161</td> <td>    0.308</td>\n",
       "</tr>\n",
       "<tr>\n",
       "  <th>Diff.L13</th> <td>    0.2059</td> <td>    0.126</td> <td>    1.636</td> <td> 0.103</td> <td>   -0.042</td> <td>    0.454</td>\n",
       "</tr>\n",
       "<tr>\n",
       "  <th>Diff.L14</th> <td>   -0.3224</td> <td>    0.127</td> <td>   -2.538</td> <td> 0.012</td> <td>   -0.573</td> <td>   -0.072</td>\n",
       "</tr>\n",
       "<tr>\n",
       "  <th>Diff.L15</th> <td>    0.1609</td> <td>    0.130</td> <td>    1.235</td> <td> 0.218</td> <td>   -0.096</td> <td>    0.418</td>\n",
       "</tr>\n",
       "<tr>\n",
       "  <th>Diff.L16</th> <td>   -0.3542</td> <td>    0.114</td> <td>   -3.102</td> <td> 0.002</td> <td>   -0.579</td> <td>   -0.129</td>\n",
       "</tr>\n",
       "<tr>\n",
       "  <th>const</th>    <td>   -6.5349</td> <td>    1.435</td> <td>   -4.554</td> <td> 0.000</td> <td>   -9.363</td> <td>   -3.707</td>\n",
       "</tr>\n",
       "<tr>\n",
       "  <th>trend</th>    <td>   -0.1059</td> <td>    0.022</td> <td>   -4.899</td> <td> 0.000</td> <td>   -0.148</td> <td>   -0.063</td>\n",
       "</tr>\n",
       "</table>\n",
       "<table class=\"simpletable\">\n",
       "<tr>\n",
       "  <th>Omnibus:</th>       <td>174.466</td> <th>  Durbin-Watson:     </th> <td>   1.943</td>\n",
       "</tr>\n",
       "<tr>\n",
       "  <th>Prob(Omnibus):</th> <td> 0.000</td>  <th>  Jarque-Bera (JB):  </th> <td>3606.170</td>\n",
       "</tr>\n",
       "<tr>\n",
       "  <th>Skew:</th>          <td> 2.598</td>  <th>  Prob(JB):          </th> <td>    0.00</td>\n",
       "</tr>\n",
       "<tr>\n",
       "  <th>Kurtosis:</th>      <td>21.474</td>  <th>  Cond. No.          </th> <td>1.35e+03</td>\n",
       "</tr>\n",
       "</table><br/><br/>Notes:<br/>[1] Standard Errors assume that the covariance matrix of the errors is correctly specified.<br/>[2] The condition number is large, 1.35e+03. This might indicate that there are<br/>strong multicollinearity or other numerical problems."
      ],
      "text/latex": [
       "\\begin{center}\n",
       "\\begin{tabular}{lclc}\n",
       "\\toprule\n",
       "\\textbf{Dep. Variable:}    &        y         & \\textbf{  R-squared:         } &     0.824   \\\\\n",
       "\\textbf{Model:}            &       OLS        & \\textbf{  Adj. R-squared:    } &     0.809   \\\\\n",
       "\\textbf{Method:}           &  Least Squares   & \\textbf{  F-statistic:       } &     55.99   \\\\\n",
       "\\textbf{Date:}             & Sun, 14 Apr 2024 & \\textbf{  Prob (F-statistic):} &  6.04e-71   \\\\\n",
       "\\textbf{Time:}             &     13:41:34     & \\textbf{  Log-Likelihood:    } &   -812.23   \\\\\n",
       "\\textbf{No. Observations:} &         235      & \\textbf{  AIC:               } &     1662.   \\\\\n",
       "\\textbf{Df Residuals:}     &         216      & \\textbf{  BIC:               } &     1728.   \\\\\n",
       "\\textbf{Df Model:}         &          18      & \\textbf{                     } &             \\\\\n",
       "\\textbf{Covariance Type:}  &    nonrobust     & \\textbf{                     } &             \\\\\n",
       "\\bottomrule\n",
       "\\end{tabular}\n",
       "\\begin{tabular}{lcccccc}\n",
       "                  & \\textbf{coef} & \\textbf{std err} & \\textbf{t} & \\textbf{P$> |$t$|$} & \\textbf{[0.025} & \\textbf{0.975]}  \\\\\n",
       "\\midrule\n",
       "\\textbf{Level.L1} &       0.0902  &        0.015     &     6.101  &         0.000        &        0.061    &        0.119     \\\\\n",
       "\\textbf{Diff.L1}  &       0.6240  &        0.073     &     8.510  &         0.000        &        0.479    &        0.768     \\\\\n",
       "\\textbf{Diff.L2}  &      -0.3929  &        0.085     &    -4.639  &         0.000        &       -0.560    &       -0.226     \\\\\n",
       "\\textbf{Diff.L3}  &      -0.0955  &        0.088     &    -1.090  &         0.277        &       -0.268    &        0.077     \\\\\n",
       "\\textbf{Diff.L4}  &      -0.3106  &        0.088     &    -3.536  &         0.000        &       -0.484    &       -0.137     \\\\\n",
       "\\textbf{Diff.L5}  &       0.1558  &        0.090     &     1.738  &         0.084        &       -0.021    &        0.333     \\\\\n",
       "\\textbf{Diff.L6}  &      -0.0169  &        0.093     &    -0.183  &         0.855        &       -0.200    &        0.166     \\\\\n",
       "\\textbf{Diff.L7}  &       0.0211  &        0.092     &     0.229  &         0.819        &       -0.160    &        0.203     \\\\\n",
       "\\textbf{Diff.L8}  &      -0.4955  &        0.094     &    -5.290  &         0.000        &       -0.680    &       -0.311     \\\\\n",
       "\\textbf{Diff.L9}  &       0.3377  &        0.096     &     3.526  &         0.001        &        0.149    &        0.527     \\\\\n",
       "\\textbf{Diff.L10} &      -0.2098  &        0.098     &    -2.138  &         0.034        &       -0.403    &       -0.016     \\\\\n",
       "\\textbf{Diff.L11} &      -0.4473  &        0.102     &    -4.392  &         0.000        &       -0.648    &       -0.247     \\\\\n",
       "\\textbf{Diff.L12} &       0.0733  &        0.119     &     0.616  &         0.538        &       -0.161    &        0.308     \\\\\n",
       "\\textbf{Diff.L13} &       0.2059  &        0.126     &     1.636  &         0.103        &       -0.042    &        0.454     \\\\\n",
       "\\textbf{Diff.L14} &      -0.3224  &        0.127     &    -2.538  &         0.012        &       -0.573    &       -0.072     \\\\\n",
       "\\textbf{Diff.L15} &       0.1609  &        0.130     &     1.235  &         0.218        &       -0.096    &        0.418     \\\\\n",
       "\\textbf{Diff.L16} &      -0.3542  &        0.114     &    -3.102  &         0.002        &       -0.579    &       -0.129     \\\\\n",
       "\\textbf{const}    &      -6.5349  &        1.435     &    -4.554  &         0.000        &       -9.363    &       -3.707     \\\\\n",
       "\\textbf{trend}    &      -0.1059  &        0.022     &    -4.899  &         0.000        &       -0.148    &       -0.063     \\\\\n",
       "\\bottomrule\n",
       "\\end{tabular}\n",
       "\\begin{tabular}{lclc}\n",
       "\\textbf{Omnibus:}       & 174.466 & \\textbf{  Durbin-Watson:     } &    1.943  \\\\\n",
       "\\textbf{Prob(Omnibus):} &   0.000 & \\textbf{  Jarque-Bera (JB):  } & 3606.170  \\\\\n",
       "\\textbf{Skew:}          &   2.598 & \\textbf{  Prob(JB):          } &     0.00  \\\\\n",
       "\\textbf{Kurtosis:}      &  21.474 & \\textbf{  Cond. No.          } & 1.35e+03  \\\\\n",
       "\\bottomrule\n",
       "\\end{tabular}\n",
       "%\\caption{OLS Regression Results}\n",
       "\\end{center}\n",
       "\n",
       "Notes: \\newline\n",
       " [1] Standard Errors assume that the covariance matrix of the errors is correctly specified. \\newline\n",
       " [2] The condition number is large, 1.35e+03. This might indicate that there are \\newline\n",
       " strong multicollinearity or other numerical problems."
      ],
      "text/plain": [
       "<class 'statsmodels.iolib.summary.Summary'>\n",
       "\"\"\"\n",
       "                            OLS Regression Results                            \n",
       "==============================================================================\n",
       "Dep. Variable:                      y   R-squared:                       0.824\n",
       "Model:                            OLS   Adj. R-squared:                  0.809\n",
       "Method:                 Least Squares   F-statistic:                     55.99\n",
       "Date:                Sun, 14 Apr 2024   Prob (F-statistic):           6.04e-71\n",
       "Time:                        13:41:34   Log-Likelihood:                -812.23\n",
       "No. Observations:                 235   AIC:                             1662.\n",
       "Df Residuals:                     216   BIC:                             1728.\n",
       "Df Model:                          18                                         \n",
       "Covariance Type:            nonrobust                                         \n",
       "==============================================================================\n",
       "                 coef    std err          t      P>|t|      [0.025      0.975]\n",
       "------------------------------------------------------------------------------\n",
       "Level.L1       0.0902      0.015      6.101      0.000       0.061       0.119\n",
       "Diff.L1        0.6240      0.073      8.510      0.000       0.479       0.768\n",
       "Diff.L2       -0.3929      0.085     -4.639      0.000      -0.560      -0.226\n",
       "Diff.L3       -0.0955      0.088     -1.090      0.277      -0.268       0.077\n",
       "Diff.L4       -0.3106      0.088     -3.536      0.000      -0.484      -0.137\n",
       "Diff.L5        0.1558      0.090      1.738      0.084      -0.021       0.333\n",
       "Diff.L6       -0.0169      0.093     -0.183      0.855      -0.200       0.166\n",
       "Diff.L7        0.0211      0.092      0.229      0.819      -0.160       0.203\n",
       "Diff.L8       -0.4955      0.094     -5.290      0.000      -0.680      -0.311\n",
       "Diff.L9        0.3377      0.096      3.526      0.001       0.149       0.527\n",
       "Diff.L10      -0.2098      0.098     -2.138      0.034      -0.403      -0.016\n",
       "Diff.L11      -0.4473      0.102     -4.392      0.000      -0.648      -0.247\n",
       "Diff.L12       0.0733      0.119      0.616      0.538      -0.161       0.308\n",
       "Diff.L13       0.2059      0.126      1.636      0.103      -0.042       0.454\n",
       "Diff.L14      -0.3224      0.127     -2.538      0.012      -0.573      -0.072\n",
       "Diff.L15       0.1609      0.130      1.235      0.218      -0.096       0.418\n",
       "Diff.L16      -0.3542      0.114     -3.102      0.002      -0.579      -0.129\n",
       "const         -6.5349      1.435     -4.554      0.000      -9.363      -3.707\n",
       "trend         -0.1059      0.022     -4.899      0.000      -0.148      -0.063\n",
       "==============================================================================\n",
       "Omnibus:                      174.466   Durbin-Watson:                   1.943\n",
       "Prob(Omnibus):                  0.000   Jarque-Bera (JB):             3606.170\n",
       "Skew:                           2.598   Prob(JB):                         0.00\n",
       "Kurtosis:                      21.474   Cond. No.                     1.35e+03\n",
       "==============================================================================\n",
       "\n",
       "Notes:\n",
       "[1] Standard Errors assume that the covariance matrix of the errors is correctly specified.\n",
       "[2] The condition number is large, 1.35e+03. This might indicate that there are\n",
       "strong multicollinearity or other numerical problems.\n",
       "\"\"\""
      ]
     },
     "execution_count": 363,
     "metadata": {},
     "output_type": "execute_result"
    }
   ],
   "source": [
    "adf.regression.summary()"
   ]
  },
  {
   "cell_type": "markdown",
   "metadata": {},
   "source": [
    "* **The series is not stationary in levels.**"
   ]
  },
  {
   "cell_type": "markdown",
   "metadata": {},
   "source": [
    "## Zivot-Andrews Structural Beak Test\n"
   ]
  },
  {
   "cell_type": "markdown",
   "metadata": {},
   "source": [
    "The Zivot-Andrews structural break test alleges the presence of a sudden change or breakpoint at a certain point in a time series and provides an analysis to identify this breakpoint."
   ]
  },
  {
   "cell_type": "code",
   "execution_count": 364,
   "metadata": {},
   "outputs": [
    {
     "name": "stdout",
     "output_type": "stream",
     "text": [
      "        Zivot-Andrews Results        \n",
      "=====================================\n",
      "Test Statistic                  5.583\n",
      "P-value                         0.999\n",
      "Lags                               16\n",
      "-------------------------------------\n",
      "\n",
      "Trend: Constant\n",
      "Critical Values: -5.28 (1%), -4.81 (5%), -4.57 (10%)\n",
      "Null Hypothesis: The process contains a unit root with a single structural break.\n",
      "Alternative Hypothesis: The process is trend and break stationary.\n",
      "        Zivot-Andrews Results        \n",
      "=====================================\n",
      "Test Statistic                  3.724\n",
      "P-value                         0.999\n",
      "Lags                               16\n",
      "-------------------------------------\n",
      "\n",
      "Trend: Constant and Linear Time Trend\n",
      "Critical Values: -5.58 (1%), -5.07 (5%), -4.83 (10%)\n",
      "Null Hypothesis: The process contains a unit root with a single structural break.\n",
      "Alternative Hypothesis: The process is trend and break stationary.\n",
      "        Zivot-Andrews Results        \n",
      "=====================================\n",
      "Test Statistic                  3.922\n",
      "P-value                         0.999\n",
      "Lags                               16\n",
      "-------------------------------------\n",
      "\n",
      "Trend: Linear Time Trend (No Constant)\n",
      "Critical Values: -5.03 (1%), -4.41 (5%), -4.14 (10%)\n",
      "Null Hypothesis: The process contains a unit root with a single structural break.\n",
      "Alternative Hypothesis: The process is trend and break stationary.\n"
     ]
    }
   ],
   "source": [
    "trend= [\"c\",\"ct\",\"t\"]\n",
    "for i in trend:\n",
    "    z=ZivotAndrews(CPI,trend=i)\n",
    "    print(z)"
   ]
  },
  {
   "cell_type": "markdown",
   "metadata": {},
   "source": [
    "Zivot-Andrews Test     \n",
    "* Null Hypothesis: **The process contains a unit root with a single structural break.**\n",
    "\n",
    "\n"
   ]
  },
  {
   "cell_type": "markdown",
   "metadata": {},
   "source": [
    "|    Trend           | Test Statistic       | PP-value    | Decision      |\n",
    "|--                  | --------             | --------    |--------   \n",
    "|Constant                 |  5.583               |  0.999       |Null hypothesis cannot be rejected.\n",
    "|Constant and Linear Time | 3.724                |  0.999       |Null hypothesis cannot be rejected.\n",
    "|Linear Time              |  3.922               | 0.999        |Null hypothesis cannot be rejected."
   ]
  },
  {
   "cell_type": "markdown",
   "metadata": {},
   "source": [
    "* If the ADF, PP, and KPSS tests confirm stationarity in the structural break test, and the Zivot test also confirms stationarity, then we can say there is a structural break.      \n",
    "**But, according to this test result, there is no structural break.**\n"
   ]
  },
  {
   "cell_type": "markdown",
   "metadata": {},
   "source": [
    "## The division of data into testing and training sets"
   ]
  },
  {
   "cell_type": "code",
   "execution_count": 389,
   "metadata": {},
   "outputs": [
    {
     "name": "stdout",
     "output_type": "stream",
     "text": [
      "               CPI\n",
      "Tarih             \n",
      "2003-01-31   94.77\n",
      "2003-02-28   96.23\n",
      "2003-03-31   98.12\n",
      "2003-04-30   99.09\n",
      "2003-05-31  100.04\n",
      "...            ...\n",
      "2020-08-31  472.61\n",
      "2020-09-30  477.21\n",
      "2020-10-31  487.38\n",
      "2020-11-30  498.58\n",
      "2020-12-31  504.81\n",
      "\n",
      "[216 rows x 1 columns]\n",
      "                CPI\n",
      "Tarih              \n",
      "2021-01-31   513.30\n",
      "2021-02-28   517.96\n",
      "2021-03-31   523.53\n",
      "2021-04-30   532.32\n",
      "2021-05-31   537.05\n",
      "2021-06-30   547.48\n",
      "2021-07-31   557.36\n",
      "2021-08-31   563.60\n",
      "2021-09-30   570.66\n",
      "2021-10-31   584.32\n",
      "2021-11-30   604.84\n",
      "2021-12-31   686.95\n",
      "2022-01-31   763.23\n",
      "2022-02-28   799.93\n",
      "2022-03-31   843.64\n",
      "2022-04-30   904.79\n",
      "2022-05-31   931.76\n",
      "2022-06-30   977.90\n",
      "2022-07-31  1001.03\n",
      "2022-08-31  1015.65\n",
      "2022-09-30  1046.89\n",
      "2022-10-31  1084.00\n",
      "2022-11-30  1115.26\n",
      "2022-12-31  1128.45\n",
      "2023-01-31  1203.48\n",
      "2023-02-28  1241.33\n",
      "2023-03-31  1269.75\n",
      "2023-04-30  1300.04\n",
      "2023-05-31  1300.60\n",
      "2023-06-30  1351.59\n",
      "2023-07-31  1479.84\n",
      "2023-08-31  1614.31\n",
      "2023-09-30  1691.04\n",
      "2023-10-31  1749.11\n",
      "2023-11-30  1806.50\n",
      "2023-12-31  1859.38\n"
     ]
    }
   ],
   "source": [
    "CPI_train = CPI.iloc[:-36]\n",
    "CPI_test = CPI.iloc[-36:]\n",
    "print(CPI_train)\n",
    "print(CPI_test)"
   ]
  },
  {
   "cell_type": "markdown",
   "metadata": {},
   "source": [
    "###  The Box-Cox transformation "
   ]
  },
  {
   "cell_type": "markdown",
   "metadata": {},
   "source": [
    "The Box-Cox transformation is a data transformation method used to stabilize variance or approximate a normal distribution. It is a parametric transformation method that allows for more flexibility compared to non-parametric methods."
   ]
  },
  {
   "cell_type": "markdown",
   "metadata": {},
   "source": [
    "The Box-Cox transformation is expressed by the following formula:    \n",
    "\n",
    "$ y^{(\\lambda)} = \\begin{cases} \\frac{y^\\lambda - 1}{\\lambda}, & \\text{if } \\lambda \\neq 0, \\\\ \\log(y), & \\text{if } \\lambda = 0. \\end{cases} $\n"
   ]
  },
  {
   "cell_type": "markdown",
   "metadata": {},
   "source": [
    "Here, `y` represents the variable to be transformed, and `λ` is the transformation parameter. Different values of `λ` correspond to different transformations:\n",
    "\n",
    "- `λ = 1`: Linear transformation\n",
    "- `λ = 0`: Logarithmic transformation\n",
    "- `λ > 0`: Power transformation (one of the important values)\n",
    "\n",
    "The Box-Cox transformation is commonly used, especially in regression analysis or time series data, to approximate variables to a normal distribution or to stabilize variance among variables. However, before applying it, it's essential to try different transformation parameter values and evaluate the results to determine which transformation parameter is most suitable. This is particularly important to consider in the statistical modeling process.\n"
   ]
  },
  {
   "cell_type": "code",
   "execution_count": 366,
   "metadata": {},
   "outputs": [
    {
     "name": "stdout",
     "output_type": "stream",
     "text": [
      "               CPI   Box-Cox\n",
      "Tarih                       \n",
      "2003-01-31   94.77  2.722772\n",
      "2003-02-28   96.23  2.727684\n",
      "2003-03-31   98.12  2.733906\n",
      "2003-04-30   99.09  2.737042\n",
      "2003-05-31  100.04  2.740075\n",
      "...            ...       ...\n",
      "2020-08-31  472.61  3.149028\n",
      "2020-09-30  477.21  3.151115\n",
      "2020-10-31  487.38  3.155642\n",
      "2020-11-30  498.58  3.160492\n",
      "2020-12-31  504.81  3.163131\n",
      "\n",
      "[216 rows x 2 columns]\n"
     ]
    }
   ],
   "source": [
    "CPI_train_bx,lm=boxcox(CPI_train[\"CPI\"])\n",
    "CPI_train[\"Box-Cox\"]=CPI_train_bx\n",
    "print(CPI_train)"
   ]
  },
  {
   "cell_type": "markdown",
   "metadata": {},
   "source": [
    "## Seasonal effect"
   ]
  },
  {
   "cell_type": "code",
   "execution_count": 367,
   "metadata": {},
   "outputs": [
    {
     "data": {
      "image/png": "[encoded data removed]",
      "text/plain": [
       "<Figure size 640x480 with 2 Axes>"
      ]
     },
     "metadata": {},
     "output_type": "display_data"
    }
   ],
   "source": [
    "fig, ax = plt.subplots(2,1)\n",
    "month_plot(CPI_train[\"CPI\"],ax=ax[0])\n",
    "month_plot(CPI_train[\"Box-Cox\"],ax=ax[1])\n",
    "plt.show()"
   ]
  },
  {
   "cell_type": "markdown",
   "metadata": {},
   "source": [
    "\n",
    "* This test measures whether there is a seasonal effect. Significant deviations in the red lines suggest the presence of seasonality. However, such evidence is not found in our CPI series.   \n",
    "Yet, this test can be misleading in index data. In countries like Turkey where there is no deflation, CPI always moves upwards, so different tests should be used to investigate seasonality\n"
   ]
  },
  {
   "cell_type": "markdown",
   "metadata": {},
   "source": [
    "### The addition of dummy variables to the model"
   ]
  },
  {
   "cell_type": "code",
   "execution_count": 368,
   "metadata": {},
   "outputs": [],
   "source": [
    "for_dummy_model_train= CPI_train.copy()\n",
    "for_dummy_model_test= CPI_test.copy()\n"
   ]
  },
  {
   "cell_type": "code",
   "execution_count": 369,
   "metadata": {},
   "outputs": [
    {
     "name": "stdout",
     "output_type": "stream",
     "text": [
      "               CPI   Box-Cox  Month  Month_1  Month_2  Month_3  Month_4  \\\n",
      "Tarih                                                                     \n",
      "2003-01-31   94.77  2.722772      1        1        0        0        0   \n",
      "2003-02-28   96.23  2.727684      2        0        1        0        0   \n",
      "2003-03-31   98.12  2.733906      3        0        0        1        0   \n",
      "2003-04-30   99.09  2.737042      4        0        0        0        1   \n",
      "2003-05-31  100.04  2.740075      5        0        0        0        0   \n",
      "...            ...       ...    ...      ...      ...      ...      ...   \n",
      "2020-08-31  472.61  3.149028      8        0        0        0        0   \n",
      "2020-09-30  477.21  3.151115      9        0        0        0        0   \n",
      "2020-10-31  487.38  3.155642     10        0        0        0        0   \n",
      "2020-11-30  498.58  3.160492     11        0        0        0        0   \n",
      "2020-12-31  504.81  3.163131     12        0        0        0        0   \n",
      "\n",
      "            Month_5  Month_6  Month_7  Month_8  Month_9  Month_10  Month_11  \\\n",
      "Tarih                                                                         \n",
      "2003-01-31        0        0        0        0        0         0         0   \n",
      "2003-02-28        0        0        0        0        0         0         0   \n",
      "2003-03-31        0        0        0        0        0         0         0   \n",
      "2003-04-30        0        0        0        0        0         0         0   \n",
      "2003-05-31        1        0        0        0        0         0         0   \n",
      "...             ...      ...      ...      ...      ...       ...       ...   \n",
      "2020-08-31        0        0        0        1        0         0         0   \n",
      "2020-09-30        0        0        0        0        1         0         0   \n",
      "2020-10-31        0        0        0        0        0         1         0   \n",
      "2020-11-30        0        0        0        0        0         0         1   \n",
      "2020-12-31        0        0        0        0        0         0         0   \n",
      "\n",
      "            Month_12  \n",
      "Tarih                 \n",
      "2003-01-31         0  \n",
      "2003-02-28         0  \n",
      "2003-03-31         0  \n",
      "2003-04-30         0  \n",
      "2003-05-31         0  \n",
      "...              ...  \n",
      "2020-08-31         0  \n",
      "2020-09-30         0  \n",
      "2020-10-31         0  \n",
      "2020-11-30         0  \n",
      "2020-12-31         1  \n",
      "\n",
      "[216 rows x 15 columns]\n"
     ]
    }
   ],
   "source": [
    "for_dummy_model_train[\"Month\"]=CPI_train.index.month\n",
    "dummy= pd.get_dummies(for_dummy_model_train[\"Month\"],prefix=\"Month\",dtype=int,drop_first=False)\n",
    "for_dummy_model_train =pd.concat([for_dummy_model_train,dummy],axis=1)\n",
    "print(for_dummy_model_train)"
   ]
  },
  {
   "cell_type": "code",
   "execution_count": 371,
   "metadata": {},
   "outputs": [
    {
     "name": "stdout",
     "output_type": "stream",
     "text": [
      "                            OLS Regression Results                            \n",
      "==============================================================================\n",
      "Dep. Variable:                    CPI   R-squared:                       0.004\n",
      "Model:                            OLS   Adj. R-squared:                 -0.050\n",
      "Method:                 Least Squares   F-statistic:                   0.07157\n",
      "Date:                Sun, 14 Apr 2024   Prob (F-statistic):               1.00\n",
      "Time:                        13:45:04   Log-Likelihood:                -1311.9\n",
      "No. Observations:                 216   AIC:                             2648.\n",
      "Df Residuals:                     204   BIC:                             2688.\n",
      "Df Model:                          11                                         \n",
      "Covariance Type:            nonrobust                                         \n",
      "==============================================================================\n",
      "                 coef    std err          t      P>|t|      [0.025      0.975]\n",
      "------------------------------------------------------------------------------\n",
      "Month_1      216.1194     25.489      8.479      0.000     165.864     266.375\n",
      "Month_2      217.2111     25.489      8.522      0.000     166.956     267.466\n",
      "Month_3      218.9128     25.489      8.589      0.000     168.658     269.168\n",
      "Month_4      221.4306     25.489      8.687      0.000     171.175     271.686\n",
      "Month_5      223.2989     25.489      8.761      0.000     173.044     273.554\n",
      "Month_6      223.8650     25.489      8.783      0.000     173.610     274.120\n",
      "Month_7      224.6961     25.489      8.816      0.000     174.441     274.951\n",
      "Month_8      225.8906     25.489      8.862      0.000     175.635     276.146\n",
      "Month_9      228.8133     25.489      8.977      0.000     178.558     279.068\n",
      "Month_10     233.4672     25.489      9.160      0.000     183.212     283.722\n",
      "Month_11     235.2578     25.489      9.230      0.000     185.003     285.513\n",
      "Month_12     236.3100     25.489      9.271      0.000     186.055     286.565\n",
      "==============================================================================\n",
      "Omnibus:                       22.920   Durbin-Watson:                   0.004\n",
      "Prob(Omnibus):                  0.000   Jarque-Bera (JB):               28.078\n",
      "Skew:                           0.879   Prob(JB):                     8.00e-07\n",
      "Kurtosis:                       2.839   Cond. No.                         1.00\n",
      "==============================================================================\n",
      "\n",
      "Notes:\n",
      "[1] Standard Errors assume that the covariance matrix of the errors is correctly specified.\n"
     ]
    }
   ],
   "source": [
    "x= for_dummy_model_train.drop(columns=[\"CPI\",\"Box-Cox\",\"Month\"])\n",
    "y=for_dummy_model_train['CPI']\n",
    "dummy_model = sm.OLS(y,x).fit()\n",
    "print(dummy_model.summary())"
   ]
  },
  {
   "cell_type": "markdown",
   "metadata": {},
   "source": [
    "* According to the F-statistic, the model is not significant. There is no deterministic seasonality\n"
   ]
  },
  {
   "cell_type": "code",
   "execution_count": null,
   "metadata": {},
   "outputs": [],
   "source": [
    "for_nsdiffs_train=CPI_train.copy()"
   ]
  },
  {
   "cell_type": "code",
   "execution_count": null,
   "metadata": {},
   "outputs": [
    {
     "name": "stdout",
     "output_type": "stream",
     "text": [
      "0\n",
      "0\n"
     ]
    }
   ],
   "source": [
    "a= nsdiffs(for_nsdiffs_train[\"Box-Cox\"],m=12,test=\"ch\")\n",
    "b= nsdiffs(for_nsdiffs_train[\"Box-Cox\"],m=12,test=\"ocsb\")\n",
    "print(a)\n",
    "print(b)"
   ]
  },
  {
   "cell_type": "markdown",
   "metadata": {},
   "source": [
    "\n",
    "* The \"nsdiffs\" function calculates how many differences need to be taken for a time series to become stationary. The \"ch\" parameter refers to the Canova-Hansen test. The \"ocsb\" parameter refers to the Osborn-Chui-Smith-Birchenhall test. Both A and B values being zero indicate that neither test suggests the presence of seasonality."
   ]
  },
  {
   "cell_type": "markdown",
   "metadata": {},
   "source": [
    "## Building the Model with Regression"
   ]
  },
  {
   "cell_type": "code",
   "execution_count": null,
   "metadata": {},
   "outputs": [],
   "source": [
    "for_linear_reg_train=CPI_train.copy()\n"
   ]
  },
  {
   "cell_type": "code",
   "execution_count": null,
   "metadata": {},
   "outputs": [
    {
     "name": "stdout",
     "output_type": "stream",
     "text": [
      "                            OLS Regression Results                            \n",
      "==============================================================================\n",
      "Dep. Variable:                Box-Cox   R-squared:                       0.995\n",
      "Model:                            OLS   Adj. R-squared:                  0.995\n",
      "Method:                 Least Squares   F-statistic:                 4.494e+04\n",
      "Date:                Sun, 14 Apr 2024   Prob (F-statistic):          1.08e-250\n",
      "Time:                        00:10:19   Log-Likelihood:                 731.18\n",
      "No. Observations:                 216   AIC:                            -1458.\n",
      "Df Residuals:                     214   BIC:                            -1452.\n",
      "Df Model:                           1                                         \n",
      "Covariance Type:            nonrobust                                         \n",
      "==============================================================================\n",
      "                 coef    std err          t      P>|t|      [0.025      0.975]\n",
      "------------------------------------------------------------------------------\n",
      "const          2.7333      0.001   2430.652      0.000       2.731       2.736\n",
      "T              0.0019   8.99e-06    212.000      0.000       0.002       0.002\n",
      "==============================================================================\n",
      "Omnibus:                       22.634   Durbin-Watson:                   0.071\n",
      "Prob(Omnibus):                  0.000   Jarque-Bera (JB):                7.328\n",
      "Skew:                           0.083   Prob(JB):                       0.0256\n",
      "Kurtosis:                       2.113   Cond. No.                         251.\n",
      "==============================================================================\n",
      "\n",
      "Notes:\n",
      "[1] Standard Errors assume that the covariance matrix of the errors is correctly specified.\n"
     ]
    }
   ],
   "source": [
    "indeks= np.arange(1,len(for_linear_reg_train)+1)\n",
    "for_linear_reg_train[\"T\"]=indeks\n",
    "x=sm.add_constant(for_linear_reg_train[\"T\"])\n",
    "y=for_linear_reg_train[\"Box-Cox\"]\n",
    "linear_model=sm.OLS(y,x).fit()\n",
    "print(linear_model.summary())"
   ]
  },
  {
   "cell_type": "markdown",
   "metadata": {},
   "source": [
    "* According to the F-statistic, the model is significant. The coefficients are statistically significant. An R-squared value of 0.995 raises the possibility of spurious regression.    \n",
    "In non-stationary series, spurious regression is often encountered. The very low value of the Durbin-Watson statistic further supports the possibility of spurious regression.\n"
   ]
  },
  {
   "cell_type": "code",
   "execution_count": null,
   "metadata": {},
   "outputs": [],
   "source": [
    "for_pol_reg_train= CPI_train.copy()\n",
    "for_pol_reg_test=CPI_test.copy()\n"
   ]
  },
  {
   "cell_type": "code",
   "execution_count": null,
   "metadata": {},
   "outputs": [
    {
     "name": "stdout",
     "output_type": "stream",
     "text": [
      "                            OLS Regression Results                            \n",
      "==============================================================================\n",
      "Dep. Variable:                Box-Cox   R-squared:                       0.999\n",
      "Model:                            OLS   Adj. R-squared:                  0.999\n",
      "Method:                 Least Squares   F-statistic:                 4.976e+04\n",
      "Date:                Sun, 14 Apr 2024   Prob (F-statistic):          1.42e-301\n",
      "Time:                        00:10:25   Log-Likelihood:                 861.47\n",
      "No. Observations:                 216   AIC:                            -1715.\n",
      "Df Residuals:                     212   BIC:                            -1701.\n",
      "Df Model:                           3                                         \n",
      "Covariance Type:            nonrobust                                         \n",
      "==============================================================================\n",
      "                 coef    std err          t      P>|t|      [0.025      0.975]\n",
      "------------------------------------------------------------------------------\n",
      "const          2.7180      0.001   2168.197      0.000       2.716       2.720\n",
      "x1             0.0028   4.99e-05     56.594      0.000       0.003       0.003\n",
      "x2         -1.114e-05   5.34e-07    -20.859      0.000   -1.22e-05   -1.01e-05\n",
      "x3          3.537e-08   1.62e-09     21.869      0.000    3.22e-08    3.86e-08\n",
      "==============================================================================\n",
      "Omnibus:                        8.513   Durbin-Watson:                   0.232\n",
      "Prob(Omnibus):                  0.014   Jarque-Bera (JB):                8.798\n",
      "Skew:                           0.394   Prob(JB):                       0.0123\n",
      "Kurtosis:                       3.598   Cond. No.                     1.56e+07\n",
      "==============================================================================\n",
      "\n",
      "Notes:\n",
      "[1] Standard Errors assume that the covariance matrix of the errors is correctly specified.\n",
      "[2] The condition number is large, 1.56e+07. This might indicate that there are\n",
      "strong multicollinearity or other numerical problems.\n"
     ]
    }
   ],
   "source": [
    "indeks= np.arange(1,len(for_pol_reg_train)+1)\n",
    "for_pol_reg_train[\"T\"]=indeks\n",
    "pol= PolynomialFeatures(degree=3)\n",
    "xp=pol.fit_transform(for_pol_reg_train[\"T\"].values.reshape(-1,1))\n",
    "y=for_pol_reg_train[\"Box-Cox\"]\n",
    "pol_model=sm.OLS(y,xp).fit()\n",
    "print(pol_model.summary())"
   ]
  },
  {
   "cell_type": "markdown",
   "metadata": {},
   "source": [
    "* When a third-degree polynomial regression is used to recreate the model to test for the presence of spurious regression, despite the increase in the R-squared value and the relatively higher Durbin-Watson statistic, it was deemed insufficient. We can conclude that there is spurious regression.\n"
   ]
  },
  {
   "cell_type": "markdown",
   "metadata": {},
   "source": [
    "### Spurious Regression Test with test data"
   ]
  },
  {
   "cell_type": "code",
   "execution_count": 372,
   "metadata": {},
   "outputs": [
    {
     "name": "stdout",
     "output_type": "stream",
     "text": [
      "                CPI      Tahmin\n",
      "Tarih                          \n",
      "2021-01-31   513.30  516.598012\n",
      "2021-02-28   517.96  524.009584\n",
      "2021-03-31   523.53  531.615321\n",
      "2021-04-30   532.32  539.421985\n",
      "2021-05-31   537.05  547.436627\n",
      "2021-06-30   547.48  555.666598\n",
      "2021-07-31   557.36  564.119566\n",
      "2021-08-31   563.60  572.803535\n",
      "2021-09-30   570.66  581.726856\n",
      "2021-10-31   584.32  590.898253\n",
      "2021-11-30   604.84  600.326834\n",
      "2021-12-31   686.95  610.022120\n",
      "2022-01-31   763.23  619.994060\n",
      "2022-02-28   799.93  630.253057\n",
      "2022-03-31   843.64  640.809993\n",
      "2022-04-30   904.79  651.676256\n",
      "2022-05-31   931.76  662.863763\n",
      "2022-06-30   977.90  674.384996\n",
      "2022-07-31  1001.03  686.253029\n",
      "2022-08-31  1015.65  698.481561\n",
      "2022-09-30  1046.89  711.084956\n",
      "2022-10-31  1084.00  724.078276\n",
      "2022-11-30  1115.26  737.477326\n",
      "2022-12-31  1128.45  751.298693\n",
      "2023-01-31  1203.48  765.559795\n",
      "2023-02-28  1241.33  780.278928\n",
      "2023-03-31  1269.75  795.475321\n",
      "2023-04-30  1300.04  811.169190\n",
      "2023-05-31  1300.60  827.381799\n",
      "2023-06-30  1351.59  844.135524\n",
      "2023-07-31  1479.84  861.453923\n",
      "2023-08-31  1614.31  879.361807\n",
      "2023-09-30  1691.04  897.885324\n",
      "2023-10-31  1749.11  917.052037\n",
      "2023-11-30  1806.50  936.891022\n",
      "2023-12-31  1859.38  957.432961\n"
     ]
    }
   ],
   "source": [
    "\n",
    "girdi= np.arange(len(for_pol_reg_train.index)+1,len(for_pol_reg_train.index)+37)\n",
    "tahmin=pol_model.predict(pol.fit_transform(girdi.reshape(-1,1)))\n",
    "tahmin=inv_boxcox(tahmin,lm)\n",
    "for_pol_reg_test[\"Tahmin\"]= tahmin\n",
    "print(for_pol_reg_test)"
   ]
  },
  {
   "cell_type": "markdown",
   "metadata": {},
   "source": [
    "* Despite achieving a 99% success rate according to the R-squared in the regression model, when compared with the test data, almost a twofold deviation is observed.\n"
   ]
  },
  {
   "cell_type": "markdown",
   "metadata": {},
   "source": [
    "## Holt Model"
   ]
  },
  {
   "cell_type": "markdown",
   "metadata": {},
   "source": [
    "* The Holt model is a forecasting model that takes into account trend and irregular components in time series data. It is used to predict time series data using simple exponential smoothing. The Holt model attempts to forecast future values by considering both the trend and irregular components of the series, making it particularly suitable for time series with a regular increasing or decreasing trend.\n"
   ]
  },
  {
   "cell_type": "code",
   "execution_count": null,
   "metadata": {},
   "outputs": [],
   "source": [
    "for_hot_model_train=CPI_train.copy()\n",
    "for_hot_model_test=CPI_test.copy()\n"
   ]
  },
  {
   "cell_type": "code",
   "execution_count": 380,
   "metadata": {},
   "outputs": [
    {
     "name": "stdout",
     "output_type": "stream",
     "text": [
      "R-square: -0.4364909772497676\n",
      "RMSE: 489.9585928644117\n"
     ]
    }
   ],
   "source": [
    "hot_model= Holt(for_hot_model_train[\"Box-Cox\"]).fit(optimized=True)\n",
    "tahmin=hot_model.forecast(36)\n",
    "tahmin=inv_boxcox(tahmin,lm)\n",
    "r_square=r2_score(for_hot_model_test[\"CPI\"],tahmin)\n",
    "RMSE= np.sqrt(mean_squared_error(for_hot_model_test[\"CPI\"],tahmin))\n",
    "print(f\"R-square: {r_square}\")\n",
    "print(f\"RMSE: {RMSE}\")"
   ]
  },
  {
   "cell_type": "markdown",
   "metadata": {},
   "source": [
    "## Holt-Winters Model"
   ]
  },
  {
   "cell_type": "markdown",
   "metadata": {},
   "source": [
    "* The Holt model considers the trend component in time series, while the Holt-Winters model takes into account both the trend and seasonal components. The Holt-Winters model is used to forecast both regular trends and seasonal patterns in time series data. Therefore, the Holt-Winters model is a more comprehensive forecasting model and is more suitable for time series data with seasonal effects.\n"
   ]
  },
  {
   "cell_type": "code",
   "execution_count": 381,
   "metadata": {},
   "outputs": [],
   "source": [
    "for_holt_winters_model_train= CPI_train.copy()\n",
    "for_holt_winters_model_test= CPI_test.copy()"
   ]
  },
  {
   "cell_type": "code",
   "execution_count": null,
   "metadata": {},
   "outputs": [],
   "source": [
    "trend_tip=[\"add\",\"mul\"]\n",
    "seas_tip=[\"add\",\"mul\"]\n",
    "per=range(2,13)"
   ]
  },
  {
   "cell_type": "code",
   "execution_count": null,
   "metadata": {},
   "outputs": [
    {
     "name": "stdout",
     "output_type": "stream",
     "text": [
      "   Trend Mevsimsellik Periyod        RMSE\n",
      "26   mul          add       6  493.582662\n",
      "37   mul          mul       6  493.832807\n",
      "39   mul          mul       8  510.060781\n",
      "42   mul          mul      11  510.331166\n",
      "28   mul          add       8  510.430950\n",
      "31   mul          add      11  511.332321\n",
      "38   mul          mul       7  511.722849\n",
      "35   mul          mul       4  511.828961\n",
      "24   mul          add       4  511.830611\n",
      "27   mul          add       7  511.890842\n",
      "34   mul          mul       3  511.969290\n",
      "23   mul          add       3  512.011767\n",
      "25   mul          add       5  512.070230\n",
      "22   mul          add       2  513.024278\n",
      "30   mul          add      10  513.048927\n",
      "33   mul          mul       2  513.219522\n",
      "41   mul          mul      10  513.220596\n",
      "40   mul          mul       9  513.377035\n",
      "29   mul          add       9  513.492419\n",
      "43   mul          mul      12  513.891430\n",
      "32   mul          add      12  513.923116\n",
      "36   mul          mul       5  514.926024\n",
      "17   add          mul       8  518.442445\n",
      "3    add          add       5  522.698758\n",
      "18   add          mul       9  522.916010\n",
      "6    add          add       8  522.930125\n",
      "16   add          mul       7  522.950458\n",
      "5    add          add       7  524.562091\n",
      "4    add          add       6  524.564827\n",
      "13   add          mul       4  524.593947\n",
      "1    add          add       3  524.750285\n",
      "15   add          mul       6  525.035446\n",
      "21   add          mul      12  525.153650\n",
      "11   add          mul       2  525.597765\n",
      "0    add          add       2  525.658597\n",
      "19   add          mul      10  525.745530\n",
      "7    add          add       9  525.860861\n",
      "2    add          add       4  526.058966\n",
      "10   add          add      12  526.488119\n",
      "8    add          add      10  526.537856\n",
      "12   add          mul       3  526.619153\n",
      "9    add          add      11  526.739395\n",
      "14   add          mul       5  529.691974\n",
      "20   add          mul      11  545.617552\n"
     ]
    }
   ],
   "source": [
    "sonuc=pd.DataFrame(columns=[\"Trend\",\"Mevsimsellik\",\"Periyod\",\"RMSE\"])\n",
    "for i in trend_tip:\n",
    "    for j in seas_tip:\n",
    "        for k in per:\n",
    "            holt_winters_model=ExponentialSmoothing(for_holt_winters_model_train[\"Box-Cox\"],trend=i,seasonal=j,seasonal_periods=k).fit(optimized=True)\n",
    "            holt_winters_tahmin=holt_winters_model.forecast(36)\n",
    "            holt_winters_tahmin=inv_boxcox(holt_winters_tahmin,lm)\n",
    "            rmse=np.sqrt(mean_squared_error(for_holt_winters_model_test[\"CPI\"],holt_winters_tahmin))\n",
    "            sonuc=sonuc._append({\"Trend\":i,\"Mevsimsellik\":j,\"Periyod\":k,\"RMSE\":rmse},ignore_index=True)\n",
    "sonuc=sonuc.sort_values(by=\"RMSE\")\n",
    "print(sonuc)\n"
   ]
  },
  {
   "cell_type": "markdown",
   "metadata": {},
   "source": [
    "* The RMSE value of the Holt model is 489.96, while the RMSE value of the Holt-Winters model is 493.58. The difference in RMSE values between the two models is quite small. This may indicate that the Holt-Winters model, with its multiplicative trend component, better captures the seasonal patterns in the dataset and makes better predictions. However, due to the small difference, it can be difficult to determine conclusively which model performs better.\n",
    "\n"
   ]
  },
  {
   "cell_type": "markdown",
   "metadata": {},
   "source": [
    "## ARIMA Model"
   ]
  },
  {
   "cell_type": "code",
   "execution_count": null,
   "metadata": {},
   "outputs": [],
   "source": [
    "for_arima_model_train = CPI_train.copy()\n",
    "for_arima_model_test = CPI_test.copy()"
   ]
  },
  {
   "cell_type": "code",
   "execution_count": null,
   "metadata": {},
   "outputs": [
    {
     "name": "stdout",
     "output_type": "stream",
     "text": [
      "                               SARIMAX Results                                \n",
      "==============================================================================\n",
      "Dep. Variable:                      y   No. Observations:                  216\n",
      "Model:               SARIMAX(0, 1, 2)   Log Likelihood                1025.511\n",
      "Date:                Sat, 13 Apr 2024   AIC                          -2043.022\n",
      "Time:                        22:37:39   BIC                          -2029.539\n",
      "Sample:                    01-31-2003   HQIC                         -2037.574\n",
      "                         - 12-31-2020                                         \n",
      "Covariance Type:                  opg                                         \n",
      "==============================================================================\n",
      "                 coef    std err          z      P>|z|      [0.025      0.975]\n",
      "------------------------------------------------------------------------------\n",
      "intercept      0.0020      0.000     10.597      0.000       0.002       0.002\n",
      "ma.L1          0.3465      0.066      5.236      0.000       0.217       0.476\n",
      "ma.L2         -0.0945      0.072     -1.320      0.187      -0.235       0.046\n",
      "sigma2      4.198e-06   3.12e-07     13.453      0.000    3.59e-06    4.81e-06\n",
      "===================================================================================\n",
      "Ljung-Box (L1) (Q):                   0.01   Jarque-Bera (JB):                81.73\n",
      "Prob(Q):                              0.91   Prob(JB):                         0.00\n",
      "Heteroskedasticity (H):               1.07   Skew:                             0.59\n",
      "Prob(H) (two-sided):                  0.79   Kurtosis:                         5.78\n",
      "===================================================================================\n",
      "\n",
      "Warnings:\n",
      "[1] Covariance matrix calculated using the outer product of gradients (complex-step).\n"
     ]
    }
   ],
   "source": [
    "arima_model=auto_arima(for_arima_model_train[\"Box-Cox\"],seasonal=False,trace=False)\n",
    "print(arima_model.summary())"
   ]
  },
  {
   "cell_type": "code",
   "execution_count": null,
   "metadata": {},
   "outputs": [],
   "source": [
    "sonuc=pd.DataFrame(columns=[\"m\",\"AIC\"])\n",
    "for i in range(2,13):\n",
    "    arima_model_seasonal=auto_arima(for_arima_model_train[\"Box-Cox\"],seasonal=True,trace=False,m=i)\n",
    "    sonuc=sonuc._append({\"m\":i,\"AIC\":arima_model_seasonal.aic()},ignore_index=True)\n"
   ]
  },
  {
   "cell_type": "code",
   "execution_count": null,
   "metadata": {},
   "outputs": [
    {
     "name": "stdout",
     "output_type": "stream",
     "text": [
      "       m          AIC\n",
      "10  12.0 -2090.776081\n",
      "4    6.0 -2078.929540\n",
      "2    4.0 -2045.939823\n",
      "0    2.0 -2045.238526\n",
      "6    8.0 -2043.414995\n",
      "8   10.0 -2043.317069\n",
      "3    5.0 -2043.315089\n",
      "1    3.0 -2043.188448\n",
      "5    7.0 -2043.021560\n",
      "7    9.0 -2043.021560\n",
      "9   11.0 -2043.021560\n"
     ]
    }
   ],
   "source": [
    "sonuc=sonuc.sort_values(by=\"AIC\")\n",
    "print(sonuc)"
   ]
  },
  {
   "cell_type": "markdown",
   "metadata": {},
   "source": [
    "* When the AIC values are sorted, it is determined that the most suitable period is 12.\n"
   ]
  },
  {
   "cell_type": "code",
   "execution_count": null,
   "metadata": {},
   "outputs": [
    {
     "name": "stdout",
     "output_type": "stream",
     "text": [
      "                                      SARIMAX Results                                       \n",
      "============================================================================================\n",
      "Dep. Variable:                                    y   No. Observations:                  216\n",
      "Model:             SARIMAX(0, 1, 2)x(2, 0, [1], 12)   Log Likelihood                1052.388\n",
      "Date:                              Sat, 13 Apr 2024   AIC                          -2090.776\n",
      "Time:                                      22:46:54   BIC                          -2067.182\n",
      "Sample:                                  01-31-2003   HQIC                         -2081.243\n",
      "                                       - 12-31-2020                                         \n",
      "Covariance Type:                                opg                                         \n",
      "==============================================================================\n",
      "                 coef    std err          z      P>|z|      [0.025      0.975]\n",
      "------------------------------------------------------------------------------\n",
      "intercept      0.0002      0.000      1.325      0.185   -8.28e-05       0.000\n",
      "ma.L1          0.3208      0.061      5.273      0.000       0.202       0.440\n",
      "ma.L2         -0.1064      0.071     -1.490      0.136      -0.246       0.034\n",
      "ar.S.L12       0.6997      0.120      5.810      0.000       0.464       0.936\n",
      "ar.S.L24       0.2194      0.090      2.445      0.014       0.044       0.395\n",
      "ma.S.L12      -0.6599      0.124     -5.305      0.000      -0.904      -0.416\n",
      "sigma2      3.133e-06    2.2e-07     14.215      0.000     2.7e-06    3.57e-06\n",
      "===================================================================================\n",
      "Ljung-Box (L1) (Q):                   0.01   Jarque-Bera (JB):               284.66\n",
      "Prob(Q):                              0.93   Prob(JB):                         0.00\n",
      "Heteroskedasticity (H):               1.43   Skew:                             1.08\n",
      "Prob(H) (two-sided):                  0.13   Kurtosis:                         8.20\n",
      "===================================================================================\n",
      "\n",
      "Warnings:\n",
      "[1] Covariance matrix calculated using the outer product of gradients (complex-step).\n"
     ]
    }
   ],
   "source": [
    "arima_model=auto_arima(for_arima_model_train[\"Box-Cox\"],seasonal=True,trace=False,m=12)\n",
    "print(arima_model.summary())"
   ]
  },
  {
   "cell_type": "markdown",
   "metadata": {},
   "source": [
    "* The parameters ma.L2 and intercept are removed from the model due to being statistically insignificant.\n"
   ]
  },
  {
   "cell_type": "code",
   "execution_count": 382,
   "metadata": {},
   "outputs": [
    {
     "name": "stdout",
     "output_type": "stream",
     "text": [
      "                                     SARIMAX Results                                      \n",
      "==========================================================================================\n",
      "Dep. Variable:                            Box-Cox   No. Observations:                  216\n",
      "Model:             SARIMAX(0, 1, 1)x(2, 0, 1, 12)   Log Likelihood                1038.292\n",
      "Date:                            Sun, 14 Apr 2024   AIC                          -2066.584\n",
      "Time:                                    18:34:03   BIC                          -2049.731\n",
      "Sample:                                01-31-2003   HQIC                         -2059.775\n",
      "                                     - 12-31-2020                                         \n",
      "Covariance Type:                              opg                                         \n",
      "==============================================================================\n",
      "                 coef    std err          z      P>|z|      [0.025      0.975]\n",
      "------------------------------------------------------------------------------\n",
      "ma.L1          0.5555      0.036     15.440      0.000       0.485       0.626\n",
      "ar.S.L12       0.7619      0.131      5.823      0.000       0.505       1.018\n",
      "ar.S.L24       0.1525      0.098      1.561      0.119      -0.039       0.344\n",
      "ma.S.L12      -0.5836      0.150     -3.892      0.000      -0.877      -0.290\n",
      "sigma2        3.6e-06   2.72e-07     13.229      0.000    3.07e-06    4.13e-06\n",
      "===================================================================================\n",
      "Ljung-Box (L1) (Q):                  10.27   Jarque-Bera (JB):                74.19\n",
      "Prob(Q):                              0.00   Prob(JB):                         0.00\n",
      "Heteroskedasticity (H):               1.15   Skew:                             0.53\n",
      "Prob(H) (two-sided):                  0.57   Kurtosis:                         5.67\n",
      "===================================================================================\n",
      "\n",
      "Warnings:\n",
      "[1] Covariance matrix calculated using the outer product of gradients (complex-step).\n"
     ]
    }
   ],
   "source": [
    "model=SARIMAX(for_arima_model_train[\"Box-Cox\"],order=(0,1,1),seasonal_order=(2,0,1,12),trend=\"n\").fit()\n",
    "print(model.summary())"
   ]
  },
  {
   "cell_type": "markdown",
   "metadata": {},
   "source": [
    "* The parameter ar.S.L24 is removed from the model due to being statistically insignificant. \n",
    "* The parameter \"ar.S.L24\" represents the seasonal autoregressive structure in the time series data. In the expression \"ar.S.L24\", \"L24\" denotes a lag of 24 periods.\n"
   ]
  },
  {
   "cell_type": "code",
   "execution_count": null,
   "metadata": {},
   "outputs": [
    {
     "name": "stdout",
     "output_type": "stream",
     "text": [
      "                                     SARIMAX Results                                      \n",
      "==========================================================================================\n",
      "Dep. Variable:                            Box-Cox   No. Observations:                  216\n",
      "Model:             SARIMAX(0, 1, 1)x(1, 0, 1, 12)   Log Likelihood                1034.709\n",
      "Date:                            Sat, 13 Apr 2024   AIC                          -2061.417\n",
      "Time:                                    23:00:39   BIC                          -2047.935\n",
      "Sample:                                01-31-2003   HQIC                         -2055.970\n",
      "                                     - 12-31-2020                                         \n",
      "Covariance Type:                              opg                                         \n",
      "==============================================================================\n",
      "                 coef    std err          z      P>|z|      [0.025      0.975]\n",
      "------------------------------------------------------------------------------\n",
      "ma.L1          0.5555      0.039     14.282      0.000       0.479       0.632\n",
      "ar.S.L12       0.9274      0.056     16.492      0.000       0.817       1.038\n",
      "ma.S.L12      -0.7536      0.120     -6.277      0.000      -0.989      -0.518\n",
      "sigma2      3.775e-06   2.91e-07     12.961      0.000     3.2e-06    4.35e-06\n",
      "===================================================================================\n",
      "Ljung-Box (L1) (Q):                  10.69   Jarque-Bera (JB):                69.61\n",
      "Prob(Q):                              0.00   Prob(JB):                         0.00\n",
      "Heteroskedasticity (H):               0.99   Skew:                             0.47\n",
      "Prob(H) (two-sided):                  0.96   Kurtosis:                         5.63\n",
      "===================================================================================\n",
      "\n",
      "Warnings:\n",
      "[1] Covariance matrix calculated using the outer product of gradients (complex-step).\n"
     ]
    }
   ],
   "source": [
    "model=SARIMAX(for_arima_model_train[\"Box-Cox\"],order=(0,1,1),seasonal_order=(1,0,1,12),trend=\"n\").fit()\n",
    "print(model.summary())"
   ]
  },
  {
   "cell_type": "markdown",
   "metadata": {},
   "source": [
    "* The model with the lowest AIC value and all parameters statistically significant has been reached. This is the final model."
   ]
  },
  {
   "cell_type": "markdown",
   "metadata": {},
   "source": [
    "## Ljung-Box test and ARCH effect"
   ]
  },
  {
   "cell_type": "code",
   "execution_count": null,
   "metadata": {},
   "outputs": [
    {
     "name": "stdout",
     "output_type": "stream",
     "text": [
      "     lb_stat  lb_pvalue\n",
      "1   0.000538   0.981496\n",
      "2   0.000910   0.999545\n",
      "3   0.000914   0.999993\n",
      "4   0.001005   1.000000\n",
      "5   0.001116   1.000000\n",
      "6   0.001136   1.000000\n",
      "7   0.001141   1.000000\n",
      "8   0.001420   1.000000\n",
      "9   0.001423   1.000000\n",
      "10  0.001619   1.000000\n",
      "0.016073698362531117\n"
     ]
    }
   ],
   "source": [
    "q=acorr_ljungbox(model.resid)\n",
    "h=het_arch(model.resid,nlags=1,ddof=3)[1]\n",
    "print(q)\n",
    "print(h)"
   ]
  },
  {
   "cell_type": "markdown",
   "metadata": {},
   "source": [
    "* Ljung-Box test is used to determine the autocorrelation of the error terms in the model.\n",
    "* het_arch value represents the p-value of the ARCH (Autoregressive Conditional Heteroscedasticity) test or the statistical significance of the ARCH effect."
   ]
  },
  {
   "cell_type": "markdown",
   "metadata": {},
   "source": [
    "Looking at the results:\n",
    "* Ljung-Box test:\n",
    "    * When examining the results of the Ljung-Box test, the p-values for all time intervals are quite high at the 0.05 significance level. This indicates that there is no autocorrelation in the error terms, or in other words, the errors of the model are independent.\n",
    "* ARCH effect:\n",
    "    * The p-value given as the result of the ARCH test (0.016073698362531117) is quite low. This suggests that there is an ARCH effect, indicating that the model's errors may have ARCH properties. However, since a significance level of 0.05 was not used for the ARCH test, making a definitive interpretation can be difficult."
   ]
  },
  {
   "cell_type": "markdown",
   "metadata": {},
   "source": [
    "* __As a result, we can interpret that the error terms of the model are independent and there is no autocorrelation, but there may be an ARCH effect.__"
   ]
  }
 ],
 "metadata": {
  "kernelspec": {
   "display_name": "Python 3",
   "language": "python",
   "name": "python3"
  },
  "language_info": {
   "codemirror_mode": {
    "name": "ipython",
    "version": 3
   },
   "file_extension": ".py",
   "mimetype": "text/x-python",
   "name": "python",
   "nbconvert_exporter": "python",
   "pygments_lexer": "ipython3",
   "version": "3.11.5"
  }
 },
 "nbformat": 4,
 "nbformat_minor": 2
}
